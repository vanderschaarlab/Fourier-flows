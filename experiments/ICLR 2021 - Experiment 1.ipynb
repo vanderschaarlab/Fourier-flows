{
 "cells": [
  {
   "cell_type": "markdown",
   "metadata": {},
   "source": [
    "# Application of Fourier Flows to Synthetic Data"
   ]
  },
  {
   "cell_type": "markdown",
   "metadata": {},
   "source": [
    "In this notebook, we reproduce the first experiment (Section 5.1) in our paper \"Generative Time-series Modeling with Fourier Flows\" published in ICLR 2021 by Ahmed M. Alaa, Alex Chan and Mihaela van der Schaar. "
   ]
  },
  {
   "cell_type": "code",
   "execution_count": null,
   "metadata": {
    "tags": []
   },
   "outputs": [],
   "source": [
    "from data.synthetic import sine_data_generation\n",
    "from fflows.utils.spectral import get_frequencies, power_spectral_density\n",
    "from fflows import FourierFlow, RealNVP\n",
    "from fflows.models.sequential import RNNmodel\n",
    "from fflows.models.timegan import timegan\n",
    "\n",
    "import os\n",
    "import random\n",
    "\n",
    "import numpy as np\n",
    "import torch\n",
    "import tensorflow.compat.v1 as tf\n",
    "\n",
    "from matplotlib import pyplot as plt\n",
    "\n",
    "%matplotlib inline\n",
    "import seaborn as sns"
   ]
  },
  {
   "cell_type": "code",
   "execution_count": null,
   "metadata": {},
   "outputs": [],
   "source": [
    "# Set seeds.\n",
    "SEED = 12345\n",
    "np.random.seed(SEED)\n",
    "tf.random.set_random_seed(1234)\n",
    "random.seed(SEED)\n",
    "torch.manual_seed(SEED)"
   ]
  },
  {
   "cell_type": "code",
   "execution_count": null,
   "metadata": {},
   "outputs": [],
   "source": [
    "# TF logging:\n",
    "os.environ[\"TF_CPP_MIN_LOG_LEVEL\"] = \"3\"\n",
    "tf.logging.set_verbosity(tf.logging.ERROR)"
   ]
  },
  {
   "cell_type": "markdown",
   "metadata": {},
   "source": [
    "### Sampling synthetic data\n",
    "\n",
    "Here we consider the following time-series data generation process:\n",
    "\n",
    "$x = \\sin(ft + \\phi),$ $\\phi \\sim \\mathcal{N}(0,1)$, $f \\sim Beta(\\alpha, \\beta), t \\in \\{0, \\ldots, T-1\\}$"
   ]
  },
  {
   "cell_type": "code",
   "execution_count": null,
   "metadata": {
    "tags": []
   },
   "outputs": [],
   "source": [
    "T = 101\n",
    "n_samples = 1000\n",
    "X = sine_data_generation(no=n_samples, seq_len=T, dim=1)"
   ]
  },
  {
   "cell_type": "markdown",
   "metadata": {},
   "source": [
    "### Fitting the Fourier Flows and Real-NVP models\n",
    "\n",
    "Imported from \"SequentialFlows\""
   ]
  },
  {
   "cell_type": "code",
   "execution_count": null,
   "metadata": {
    "jupyter": {
     "outputs_hidden": false
    }
   },
   "outputs": [],
   "source": [
    "FF_model = FourierFlow(hidden=200, fft_size=T, n_flows=10, normalize=False)\n",
    "RVP_model = RealNVP(hidden=200, T=T, n_flows=10)"
   ]
  },
  {
   "cell_type": "code",
   "execution_count": null,
   "metadata": {
    "jupyter": {
     "outputs_hidden": false
    }
   },
   "outputs": [],
   "source": [
    "FF_losses = FF_model.fit(\n",
    "    X, epochs=1000, batch_size=128, learning_rate=1e-3, display_step=100\n",
    ")"
   ]
  },
  {
   "cell_type": "code",
   "execution_count": null,
   "metadata": {
    "jupyter": {
     "outputs_hidden": false
    }
   },
   "outputs": [],
   "source": [
    "RVP_losses = RVP_model.fit(\n",
    "    X, epochs=1000, batch_size=128, learning_rate=1e-3, display_step=100\n",
    ")"
   ]
  },
  {
   "cell_type": "markdown",
   "metadata": {},
   "source": [
    "### Sample from Fourier flows and Real-NVP models"
   ]
  },
  {
   "cell_type": "code",
   "execution_count": null,
   "metadata": {
    "tags": []
   },
   "outputs": [],
   "source": [
    "X_gen_FF = FF_model.sample(1000)\n",
    "X_gen_RVP = RVP_model.sample(1000)"
   ]
  },
  {
   "cell_type": "markdown",
   "metadata": {},
   "source": [
    "### Fitting and sampling from TimeGAN model"
   ]
  },
  {
   "cell_type": "code",
   "execution_count": null,
   "metadata": {
    "jupyter": {
     "outputs_hidden": false
    }
   },
   "outputs": [],
   "source": [
    "X_ = [X[k].reshape((-1, 1)) for k in range(len(X))]\n",
    "X_gen_TGAN = timegan(\n",
    "    X_,\n",
    "    dict(\n",
    "        {\n",
    "            \"module\": \"gru\",\n",
    "            \"hidden_dim\": 24,\n",
    "            \"num_layer\": 3,\n",
    "            \"iterations\": 500,\n",
    "            \"batch_size\": 128,\n",
    "        }\n",
    "    ),\n",
    ")"
   ]
  },
  {
   "cell_type": "markdown",
   "metadata": {},
   "source": [
    "### Fitting predictive RNN models"
   ]
  },
  {
   "cell_type": "markdown",
   "metadata": {},
   "source": [
    "We evaluate the accuracy of the sampled data in the time-domain by assessing their predictive usefulness as follows: we trained a vanilla RNN model using each of the three synthetically generated samples to sequentially predict the next value in each time series in the original data. We then evaluate the MAE of the three RNN models across all time steps."
   ]
  },
  {
   "cell_type": "markdown",
   "metadata": {},
   "source": [
    "#### Instantiate RNN models and prepare labeled sequential data"
   ]
  },
  {
   "cell_type": "code",
   "execution_count": null,
   "metadata": {
    "jupyter": {
     "outputs_hidden": false
    }
   },
   "outputs": [],
   "source": [
    "predictive_model_TGAN = RNNmodel(\n",
    "    HIDDEN_UNITS=100, NUM_LAYERS=2, MAX_STEPS=100, INPUT_SIZE=1\n",
    ")\n",
    "predictive_model_RealNVP = RNNmodel(\n",
    "    HIDDEN_UNITS=100, NUM_LAYERS=2, MAX_STEPS=100, INPUT_SIZE=1\n",
    ")\n",
    "predictive_model_FF = RNNmodel(\n",
    "    HIDDEN_UNITS=100, NUM_LAYERS=2, MAX_STEPS=100, INPUT_SIZE=1\n",
    ")\n",
    "\n",
    "X_FF = [X_gen_FF[k][: len(X_gen_FF[k]) - 1] for k in range(len(X_gen_FF))]\n",
    "Y_FF = [X_gen_FF[k][1:] for k in range(len(X_gen_FF))]\n",
    "\n",
    "X_RealNVP = [X_gen_RVP[k][: len(X_gen_RVP[k]) - 1] for k in range(len(X_gen_RVP))]\n",
    "Y_RealNVP = [X_gen_RVP[k][1:] for k in range(len(X_gen_RVP))]\n",
    "\n",
    "X_TGAN = [X_gen_TGAN[k][: len(X_gen_TGAN[k]) - 1] for k in range(len(X_gen_TGAN))]\n",
    "Y_TGAN = [X_gen_TGAN[k][1:] for k in range(len(X_gen_TGAN))]"
   ]
  },
  {
   "cell_type": "markdown",
   "metadata": {},
   "source": [
    "#### Fit the three RNN models, each on a synthetic data set generated by a different baseline"
   ]
  },
  {
   "cell_type": "code",
   "execution_count": null,
   "metadata": {
    "jupyter": {
     "outputs_hidden": false
    }
   },
   "outputs": [],
   "source": [
    "predictive_model_FF.fit(X_FF, Y_FF)\n",
    "predictive_model_RealNVP.fit(X_RealNVP, Y_RealNVP)\n",
    "predictive_model_TGAN.fit(X_TGAN, Y_TGAN)"
   ]
  },
  {
   "cell_type": "markdown",
   "metadata": {},
   "source": [
    "### Visualizing the results"
   ]
  },
  {
   "cell_type": "markdown",
   "metadata": {},
   "source": [
    "#### Reconstruction of Figure 2(a). \n",
    "\n",
    "The three figures below demonstrate the spectral components of a sample from each of the three models. Each sample will have a slightly different spectrum at each run. On average, the TimeGAN model tends to \"memorize\" the real data. This manifest in the support of the estimated spectral density in one of two ways. The model either concentrates the probability mass on the frequency components observed in the real data (as in the sample illustrated in the paper), or covers a wider support including higher and lower frequencies than the ones observed based on outliers in the data."
   ]
  },
  {
   "cell_type": "code",
   "execution_count": null,
   "metadata": {
    "jupyter": {
     "outputs_hidden": false
    }
   },
   "outputs": [],
   "source": [
    "sns.distplot(get_frequencies(X), hist=False, color=\"black\", kde_kws={\"linewidth\": 3})\n",
    "sns.distplot(\n",
    "    get_frequencies(X_gen_FF),\n",
    "    hist=False,\n",
    "    color=\"red\",\n",
    "    kde_kws={\"linestyle\": \"--\", \"linewidth\": 2},\n",
    ")"
   ]
  },
  {
   "cell_type": "code",
   "execution_count": null,
   "metadata": {
    "jupyter": {
     "outputs_hidden": false
    }
   },
   "outputs": [],
   "source": [
    "sns.distplot(get_frequencies(X), hist=False, color=\"black\", kde_kws={\"linewidth\": 3})\n",
    "sns.distplot(\n",
    "    get_frequencies(X_gen_RVP),\n",
    "    hist=False,\n",
    "    color=\"red\",\n",
    "    kde_kws={\"linestyle\": \"--\", \"linewidth\": 2},\n",
    ")"
   ]
  },
  {
   "cell_type": "code",
   "execution_count": null,
   "metadata": {
    "jupyter": {
     "outputs_hidden": false
    }
   },
   "outputs": [],
   "source": [
    "sns.distplot(get_frequencies(X), hist=False, color=\"black\", kde_kws={\"linewidth\": 3})\n",
    "sns.distplot(\n",
    "    get_frequencies(X_gen_TGAN),\n",
    "    hist=False,\n",
    "    color=\"red\",\n",
    "    kde_kws={\"linestyle\": \"--\", \"linewidth\": 2},\n",
    ")"
   ]
  },
  {
   "cell_type": "markdown",
   "metadata": {},
   "source": [
    "#### Reconstruction of Figure 2(b). \n",
    "\n",
    "Learning curves, accuracy of the recovered spectra and accuracy of RNN models trained on synthetic data. "
   ]
  },
  {
   "cell_type": "code",
   "execution_count": null,
   "metadata": {
    "jupyter": {
     "outputs_hidden": false
    }
   },
   "outputs": [],
   "source": [
    "plt.plot(RVP_losses, linewidth=2, color=\"b\")\n",
    "plt.plot(FF_losses, linewidth=2, color=\"r\")\n",
    "\n",
    "plt.xlabel(\"Number of Epochs\", fontsize=12)\n",
    "plt.ylabel(\"Negative Log-likelihood\", fontsize=12)\n",
    "\n",
    "plt.grid(axis=\"y\")"
   ]
  },
  {
   "cell_type": "code",
   "execution_count": null,
   "metadata": {
    "jupyter": {
     "outputs_hidden": false
    }
   },
   "outputs": [],
   "source": [
    "FF_PSD_Errors = np.abs(power_spectral_density(X) - power_spectral_density(X_gen_FF))[\n",
    "    :100\n",
    "]\n",
    "RealNVP_PSD_Errors = np.abs(\n",
    "    power_spectral_density(X) - power_spectral_density(X_gen_RVP)\n",
    ")[:100]\n",
    "TGAN_PSD_Errors = np.abs(\n",
    "    power_spectral_density(X) - power_spectral_density(X_gen_TGAN.reshape((1000, 101)))\n",
    ")[:100]"
   ]
  },
  {
   "cell_type": "code",
   "execution_count": null,
   "metadata": {
    "jupyter": {
     "outputs_hidden": false
    }
   },
   "outputs": [],
   "source": [
    "freqs = np.linspace(0, 1, 100)\n",
    "\n",
    "plt.plot(\n",
    "    freqs, np.cumsum(TGAN_PSD_Errors)[::-1], linewidth=3, color=\"g\", linestyle=\"--\"\n",
    ")\n",
    "plt.plot(freqs, np.cumsum(FF_PSD_Errors)[::-1], linewidth=3, color=\"r\")\n",
    "plt.plot(\n",
    "    freqs, np.cumsum(RealNVP_PSD_Errors)[::-1], linewidth=3, color=\"b\", linestyle=\"-.\"\n",
    ")\n",
    "\n",
    "plt.grid(axis=\"y\")"
   ]
  },
  {
   "cell_type": "code",
   "execution_count": null,
   "metadata": {
    "jupyter": {
     "outputs_hidden": false
    }
   },
   "outputs": [],
   "source": [
    "# ---"
   ]
  },
  {
   "cell_type": "code",
   "execution_count": null,
   "metadata": {
    "jupyter": {
     "outputs_hidden": false
    }
   },
   "outputs": [],
   "source": [
    "X_true = [X[k][: len(X[k]) - 1] for k in range(len(X))]\n",
    "Y_true = [X[k][1:] for k in range(len(X))]\n",
    "\n",
    "X_TGAN_pred = predictive_model_TGAN.predict(X_true)\n",
    "X_FF_pred = predictive_model_FF.predict(X_true)\n",
    "X_RealNVP_pred = predictive_model_RealNVP.predict(X_true)"
   ]
  },
  {
   "cell_type": "code",
   "execution_count": null,
   "metadata": {
    "jupyter": {
     "outputs_hidden": false
    }
   },
   "outputs": [],
   "source": [
    "TGAN_RNN_errs = np.mean(np.abs(np.array(X_TGAN_pred) - np.array(Y_true)), axis=0)\n",
    "FF_RNN_errs = np.mean(np.abs(np.array(X_FF_pred) - np.array(Y_true)), axis=0)\n",
    "RealNVP_RNN_errs = np.mean(np.abs(np.array(X_RealNVP_pred) - np.array(Y_true)), axis=0)"
   ]
  },
  {
   "cell_type": "code",
   "execution_count": null,
   "metadata": {
    "jupyter": {
     "outputs_hidden": false
    }
   },
   "outputs": [],
   "source": [
    "plt.plot(TGAN_RNN_errs, linewidth=3, color=\"g\")\n",
    "plt.plot(FF_RNN_errs, linewidth=3, color=\"r\")\n",
    "plt.plot(RealNVP_RNN_errs, linewidth=3, color=\"b\")\n",
    "\n",
    "plt.grid(axis=\"y\")"
   ]
  }
 ],
 "metadata": {
  "interpreter": {
   "hash": "da75569d282df2ecc26465f5f7c1232e531bd22dca3c05ec195478da3573bd07"
  },
  "kernelspec": {
   "display_name": "Python 3 (ipykernel)",
   "language": "python",
   "name": "python3"
  },
  "language_info": {
   "codemirror_mode": {
    "name": "ipython",
    "version": 3
   },
   "file_extension": ".py",
   "mimetype": "text/x-python",
   "name": "python",
   "nbconvert_exporter": "python",
   "pygments_lexer": "ipython3",
   "version": "3.8.12"
  }
 },
 "nbformat": 4,
 "nbformat_minor": 4
}
